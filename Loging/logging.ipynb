{
 "cells": [
  {
   "cell_type": "code",
   "execution_count": 1,
   "id": "b3841de2-5866-4478-9a93-cff0201772d5",
   "metadata": {},
   "outputs": [],
   "source": [
    "import numpy as np\n",
    "import pandas as pd\n",
    "import logging\n"
   ]
  },
  {
   "cell_type": "code",
   "execution_count": 2,
   "id": "48a86fa3-a833-442c-8d49-487222fa7ff7",
   "metadata": {},
   "outputs": [],
   "source": [
    "logging.basicConfig(filename='log.txt', level=logging.INFO, format='%(asctime)s %(name)s %(levelname)s %(message)s')\n",
    "\n"
   ]
  },
  {
   "cell_type": "code",
   "execution_count": 5,
   "id": "44c63c51-6c00-4846-86c5-0a50217440cf",
   "metadata": {},
   "outputs": [
    {
     "name": "stdout",
     "output_type": "stream",
     "text": [
      "                                            Sentence   Emotion\n",
      "0  1. Kal raat party bahut mast thi sab friends n...  Positive\n",
      "1  2. Mere bina coffee piye mera din adhoora sa l...   Neutral\n",
      "2  3. Aaj boss ne mujhe extra kaam diya ab toh fr...  Negative\n",
      "3  4. Shopping ke liye mall chalte hain wahaan sa...  Positive\n",
      "4  5. Main aaj office nahi jaunga mood nahi hai k...  Negative\n",
      "5   6. Haan main bhi aaj dinner ke liye taiyar hoon.  Positive\n",
      "6  7. Weekend pe movie dekhne chalein koi suggest...  Positive\n",
      "7  8. Yeh pizza wala place bahut famous hai aaj t...  Positive\n",
      "8  9. Traffic mein phas gaya ab toh late ho jayenge.  Negative\n",
      "9  10. Aaj weather bahut accha hai picnic plan ka...  Positive\n",
      "                                            Sentence   Emotion\n",
      "0  1. Kal raat party bahut mast thi sab friends n...  Positive\n",
      "1  2. Mere bina coffee piye mera din adhoora sa l...   Neutral\n",
      "2  3. Aaj boss ne mujhe extra kaam diya ab toh fr...  Negative\n",
      "3  4. Shopping ke liye mall chalte hain wahaan sa...  Positive\n",
      "4  5. Main aaj office nahi jaunga mood nahi hai k...  Negative\n",
      "5   6. Haan main bhi aaj dinner ke liye taiyar hoon.  Positive\n",
      "6  7. Weekend pe movie dekhne chalein koi suggest...  Positive\n",
      "7  8. Yeh pizza wala place bahut famous hai aaj t...  Positive\n",
      "8  9. Traffic mein phas gaya ab toh late ho jayenge.  Negative\n",
      "9  10. Aaj weather bahut accha hai picnic plan ka...  Positive\n"
     ]
    }
   ],
   "source": [
    "try:\n",
    "    df = pd.read_csv('output.csv')  # Use pd.read_csv to read CSV files\n",
    "    print(df)\n",
    "    # Check for valid emotions and log an error if not valid\n",
    "    valid_emotions = ['Positive', 'Negative', 'Neutral']\n",
    "    invalid_emotions = df[~df['Emotion'].isin(valid_emotions)]\n",
    "    if not invalid_emotions.empty:\n",
    "        logging.error(\"Invalid emotions found in DataFrame: {}\".format(invalid_emotions))\n",
    "\n",
    "    logging.info(\"Successfully read data from output.csv and created DataFrame.\")\n",
    "    print(df)\n",
    "\n",
    "except Exception as e:\n",
    "    logging.error(f\"Error reading data from CSV and creating DataFrame: {str(e)}\")\n",
    "\n",
    "try:\n",
    "    df['Emotion'] = 'Updated Emotion'  # This generates a warning\n",
    "    logging.warning(\"Updated DataFrame directly without using iloc. Changes may not be as expected.\")\n",
    "    \n",
    "except Exception as e:\n",
    "    logging.error(f\"Error occurred while updating DataFrame: {str(e)}\")"
   ]
  },
  {
   "cell_type": "code",
   "execution_count": null,
   "id": "040eba8e-d81b-4ed3-a6a9-0ba88eb94535",
   "metadata": {},
   "outputs": [],
   "source": []
  }
 ],
 "metadata": {
  "kernelspec": {
   "display_name": "Python 3 (ipykernel)",
   "language": "python",
   "name": "python3"
  },
  "language_info": {
   "codemirror_mode": {
    "name": "ipython",
    "version": 3
   },
   "file_extension": ".py",
   "mimetype": "text/x-python",
   "name": "python",
   "nbconvert_exporter": "python",
   "pygments_lexer": "ipython3",
   "version": "3.11.1"
  }
 },
 "nbformat": 4,
 "nbformat_minor": 5
}
