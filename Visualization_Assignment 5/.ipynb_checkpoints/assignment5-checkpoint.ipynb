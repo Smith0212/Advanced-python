{
 "cells": [
  {
   "cell_type": "code",
   "execution_count": 1,
   "metadata": {},
   "outputs": [],
   "source": [
    "import numpy as np\n",
    "import matplotlib.pyplot as plt\n",
    "import pandas as pd\n",
    "import seaborn as sns"
   ]
  },
  {
   "cell_type": "markdown",
   "metadata": {},
   "source": [
    "## 1. Load data"
   ]
  },
  {
   "cell_type": "code",
   "execution_count": 2,
   "metadata": {},
   "outputs": [
    {
     "data": {
      "text/html": [
       "<div>\n",
       "<style scoped>\n",
       "    .dataframe tbody tr th:only-of-type {\n",
       "        vertical-align: middle;\n",
       "    }\n",
       "\n",
       "    .dataframe tbody tr th {\n",
       "        vertical-align: top;\n",
       "    }\n",
       "\n",
       "    .dataframe thead th {\n",
       "        text-align: right;\n",
       "    }\n",
       "</style>\n",
       "<table border=\"1\" class=\"dataframe\">\n",
       "  <thead>\n",
       "    <tr style=\"text-align: right;\">\n",
       "      <th></th>\n",
       "      <th>InvoiceNo</th>\n",
       "      <th>StockCode</th>\n",
       "      <th>Description</th>\n",
       "      <th>Quantity</th>\n",
       "      <th>InvoiceDate</th>\n",
       "      <th>UnitPrice</th>\n",
       "      <th>CustomerID</th>\n",
       "      <th>Country</th>\n",
       "      <th>TotalAmountSpent</th>\n",
       "    </tr>\n",
       "  </thead>\n",
       "  <tbody>\n",
       "    <tr>\n",
       "      <th>0</th>\n",
       "      <td>536365</td>\n",
       "      <td>85123A</td>\n",
       "      <td>WHITE HANGING HEART T-LIGHT HOLDER</td>\n",
       "      <td>6</td>\n",
       "      <td>2010-12-01 08:26:00</td>\n",
       "      <td>2.55</td>\n",
       "      <td>17850.0</td>\n",
       "      <td>United Kingdom</td>\n",
       "      <td>15.30</td>\n",
       "    </tr>\n",
       "    <tr>\n",
       "      <th>1</th>\n",
       "      <td>536365</td>\n",
       "      <td>71053</td>\n",
       "      <td>WHITE METAL LANTERN</td>\n",
       "      <td>6</td>\n",
       "      <td>2010-12-01 08:26:00</td>\n",
       "      <td>3.39</td>\n",
       "      <td>17850.0</td>\n",
       "      <td>United Kingdom</td>\n",
       "      <td>20.34</td>\n",
       "    </tr>\n",
       "    <tr>\n",
       "      <th>2</th>\n",
       "      <td>536365</td>\n",
       "      <td>84406B</td>\n",
       "      <td>CREAM CUPID HEARTS COAT HANGER</td>\n",
       "      <td>8</td>\n",
       "      <td>2010-12-01 08:26:00</td>\n",
       "      <td>2.75</td>\n",
       "      <td>17850.0</td>\n",
       "      <td>United Kingdom</td>\n",
       "      <td>22.00</td>\n",
       "    </tr>\n",
       "    <tr>\n",
       "      <th>3</th>\n",
       "      <td>536365</td>\n",
       "      <td>84029G</td>\n",
       "      <td>KNITTED UNION FLAG HOT WATER BOTTLE</td>\n",
       "      <td>6</td>\n",
       "      <td>2010-12-01 08:26:00</td>\n",
       "      <td>3.39</td>\n",
       "      <td>17850.0</td>\n",
       "      <td>United Kingdom</td>\n",
       "      <td>20.34</td>\n",
       "    </tr>\n",
       "    <tr>\n",
       "      <th>4</th>\n",
       "      <td>536365</td>\n",
       "      <td>84029E</td>\n",
       "      <td>RED WOOLLY HOTTIE WHITE HEART.</td>\n",
       "      <td>6</td>\n",
       "      <td>2010-12-01 08:26:00</td>\n",
       "      <td>3.39</td>\n",
       "      <td>17850.0</td>\n",
       "      <td>United Kingdom</td>\n",
       "      <td>20.34</td>\n",
       "    </tr>\n",
       "    <tr>\n",
       "      <th>...</th>\n",
       "      <td>...</td>\n",
       "      <td>...</td>\n",
       "      <td>...</td>\n",
       "      <td>...</td>\n",
       "      <td>...</td>\n",
       "      <td>...</td>\n",
       "      <td>...</td>\n",
       "      <td>...</td>\n",
       "      <td>...</td>\n",
       "    </tr>\n",
       "    <tr>\n",
       "      <th>541904</th>\n",
       "      <td>581587</td>\n",
       "      <td>22613</td>\n",
       "      <td>PACK OF 20 SPACEBOY NAPKINS</td>\n",
       "      <td>12</td>\n",
       "      <td>2011-12-09 12:50:00</td>\n",
       "      <td>0.85</td>\n",
       "      <td>12680.0</td>\n",
       "      <td>France</td>\n",
       "      <td>10.20</td>\n",
       "    </tr>\n",
       "    <tr>\n",
       "      <th>541905</th>\n",
       "      <td>581587</td>\n",
       "      <td>22899</td>\n",
       "      <td>CHILDREN'S APRON DOLLY GIRL</td>\n",
       "      <td>6</td>\n",
       "      <td>2011-12-09 12:50:00</td>\n",
       "      <td>2.10</td>\n",
       "      <td>12680.0</td>\n",
       "      <td>France</td>\n",
       "      <td>12.60</td>\n",
       "    </tr>\n",
       "    <tr>\n",
       "      <th>541906</th>\n",
       "      <td>581587</td>\n",
       "      <td>23254</td>\n",
       "      <td>CHILDRENS CUTLERY DOLLY GIRL</td>\n",
       "      <td>4</td>\n",
       "      <td>2011-12-09 12:50:00</td>\n",
       "      <td>4.15</td>\n",
       "      <td>12680.0</td>\n",
       "      <td>France</td>\n",
       "      <td>16.60</td>\n",
       "    </tr>\n",
       "    <tr>\n",
       "      <th>541907</th>\n",
       "      <td>581587</td>\n",
       "      <td>23255</td>\n",
       "      <td>CHILDRENS CUTLERY CIRCUS PARADE</td>\n",
       "      <td>4</td>\n",
       "      <td>2011-12-09 12:50:00</td>\n",
       "      <td>4.15</td>\n",
       "      <td>12680.0</td>\n",
       "      <td>France</td>\n",
       "      <td>16.60</td>\n",
       "    </tr>\n",
       "    <tr>\n",
       "      <th>541908</th>\n",
       "      <td>581587</td>\n",
       "      <td>22138</td>\n",
       "      <td>BAKING SET 9 PIECE RETROSPOT</td>\n",
       "      <td>3</td>\n",
       "      <td>2011-12-09 12:50:00</td>\n",
       "      <td>4.95</td>\n",
       "      <td>12680.0</td>\n",
       "      <td>France</td>\n",
       "      <td>14.85</td>\n",
       "    </tr>\n",
       "  </tbody>\n",
       "</table>\n",
       "<p>541909 rows × 9 columns</p>\n",
       "</div>"
      ],
      "text/plain": [
       "       InvoiceNo StockCode                          Description  Quantity  \\\n",
       "0         536365    85123A   WHITE HANGING HEART T-LIGHT HOLDER         6   \n",
       "1         536365     71053                  WHITE METAL LANTERN         6   \n",
       "2         536365    84406B       CREAM CUPID HEARTS COAT HANGER         8   \n",
       "3         536365    84029G  KNITTED UNION FLAG HOT WATER BOTTLE         6   \n",
       "4         536365    84029E       RED WOOLLY HOTTIE WHITE HEART.         6   \n",
       "...          ...       ...                                  ...       ...   \n",
       "541904    581587     22613          PACK OF 20 SPACEBOY NAPKINS        12   \n",
       "541905    581587     22899         CHILDREN'S APRON DOLLY GIRL          6   \n",
       "541906    581587     23254        CHILDRENS CUTLERY DOLLY GIRL          4   \n",
       "541907    581587     23255      CHILDRENS CUTLERY CIRCUS PARADE         4   \n",
       "541908    581587     22138        BAKING SET 9 PIECE RETROSPOT          3   \n",
       "\n",
       "                InvoiceDate  UnitPrice  CustomerID         Country  \\\n",
       "0       2010-12-01 08:26:00       2.55     17850.0  United Kingdom   \n",
       "1       2010-12-01 08:26:00       3.39     17850.0  United Kingdom   \n",
       "2       2010-12-01 08:26:00       2.75     17850.0  United Kingdom   \n",
       "3       2010-12-01 08:26:00       3.39     17850.0  United Kingdom   \n",
       "4       2010-12-01 08:26:00       3.39     17850.0  United Kingdom   \n",
       "...                     ...        ...         ...             ...   \n",
       "541904  2011-12-09 12:50:00       0.85     12680.0          France   \n",
       "541905  2011-12-09 12:50:00       2.10     12680.0          France   \n",
       "541906  2011-12-09 12:50:00       4.15     12680.0          France   \n",
       "541907  2011-12-09 12:50:00       4.15     12680.0          France   \n",
       "541908  2011-12-09 12:50:00       4.95     12680.0          France   \n",
       "\n",
       "        TotalAmountSpent  \n",
       "0                  15.30  \n",
       "1                  20.34  \n",
       "2                  22.00  \n",
       "3                  20.34  \n",
       "4                  20.34  \n",
       "...                  ...  \n",
       "541904             10.20  \n",
       "541905             12.60  \n",
       "541906             16.60  \n",
       "541907             16.60  \n",
       "541908             14.85  \n",
       "\n",
       "[541909 rows x 9 columns]"
      ]
     },
     "execution_count": 2,
     "metadata": {},
     "output_type": "execute_result"
    }
   ],
   "source": [
    "data = pd.read_csv(\"OnlineRetail.csv\")\n",
    "data"
   ]
  },
  {
   "cell_type": "code",
   "execution_count": 3,
   "metadata": {},
   "outputs": [
    {
     "name": "stdout",
     "output_type": "stream",
     "text": [
      "--------------------------------------------------\n",
      "---------------- SHAPE OF DATASET ----------------\n",
      "Rows: 541909\n",
      "Columns: 9\n",
      "--------------------------------------------------\n",
      "---------------------- HEAD ----------------------\n",
      "  InvoiceNo StockCode                          Description  Quantity  \\\n",
      "0    536365    85123A   WHITE HANGING HEART T-LIGHT HOLDER         6   \n",
      "1    536365     71053                  WHITE METAL LANTERN         6   \n",
      "2    536365    84406B       CREAM CUPID HEARTS COAT HANGER         8   \n",
      "3    536365    84029G  KNITTED UNION FLAG HOT WATER BOTTLE         6   \n",
      "4    536365    84029E       RED WOOLLY HOTTIE WHITE HEART.         6   \n",
      "\n",
      "           InvoiceDate  UnitPrice  CustomerID         Country  \\\n",
      "0  2010-12-01 08:26:00       2.55     17850.0  United Kingdom   \n",
      "1  2010-12-01 08:26:00       3.39     17850.0  United Kingdom   \n",
      "2  2010-12-01 08:26:00       2.75     17850.0  United Kingdom   \n",
      "3  2010-12-01 08:26:00       3.39     17850.0  United Kingdom   \n",
      "4  2010-12-01 08:26:00       3.39     17850.0  United Kingdom   \n",
      "\n",
      "   TotalAmountSpent  \n",
      "0             15.30  \n",
      "1             20.34  \n",
      "2             22.00  \n",
      "3             20.34  \n",
      "4             20.34  \n",
      "--------------------------------------------------\n",
      "--------------------DATA TYPES--------------------\n",
      "object     5\n",
      "float64    3\n",
      "int64      1\n",
      "Name: count, dtype: int64\n",
      "--------------------------------------------------\n",
      "----------------- MISSING VALUES -----------------\n",
      "CustomerID     135080\n",
      "Description      1454\n",
      "dtype: int64\n",
      "--------------------------------------------------\n",
      "--------------- DUPLICATED VALUES ----------------\n",
      "5268\n",
      "--------------------------------------------------\n",
      "--------------- STATISTICS OF DATA ---------------\n",
      "       InvoiceNo StockCode                         Description       Quantity  \\\n",
      "count     541909    541909                              540455  541909.000000   \n",
      "unique     25900      4070                                4223            NaN   \n",
      "top       573585    85123A  WHITE HANGING HEART T-LIGHT HOLDER            NaN   \n",
      "freq        1114      2313                                2369            NaN   \n",
      "mean         NaN       NaN                                 NaN       9.552250   \n",
      "std          NaN       NaN                                 NaN     218.081158   \n",
      "min          NaN       NaN                                 NaN  -80995.000000   \n",
      "25%          NaN       NaN                                 NaN       1.000000   \n",
      "50%          NaN       NaN                                 NaN       3.000000   \n",
      "75%          NaN       NaN                                 NaN      10.000000   \n",
      "max          NaN       NaN                                 NaN   80995.000000   \n",
      "\n",
      "                InvoiceDate      UnitPrice     CustomerID         Country  \\\n",
      "count                541909  541909.000000  406829.000000          541909   \n",
      "unique                23260            NaN            NaN              38   \n",
      "top     2011-10-31 14:41:00            NaN            NaN  United Kingdom   \n",
      "freq                   1114            NaN            NaN          495478   \n",
      "mean                    NaN       4.611114   15287.690570             NaN   \n",
      "std                     NaN      96.759853    1713.600303             NaN   \n",
      "min                     NaN  -11062.060000   12346.000000             NaN   \n",
      "25%                     NaN       1.250000   13953.000000             NaN   \n",
      "50%                     NaN       2.080000   15152.000000             NaN   \n",
      "75%                     NaN       4.130000   16791.000000             NaN   \n",
      "max                     NaN   38970.000000   18287.000000             NaN   \n",
      "\n",
      "        TotalAmountSpent  \n",
      "count      541909.000000  \n",
      "unique               NaN  \n",
      "top                  NaN  \n",
      "freq                 NaN  \n",
      "mean           17.987795  \n",
      "std           378.810824  \n",
      "min       -168469.600000  \n",
      "25%             3.400000  \n",
      "50%             9.750000  \n",
      "75%            17.400000  \n",
      "max        168469.600000  \n",
      "--------------------------------------------------\n",
      "--------------------DATA INFO---------------------\n",
      "<class 'pandas.core.frame.DataFrame'>\n",
      "RangeIndex: 541909 entries, 0 to 541908\n",
      "Data columns (total 9 columns):\n",
      " #   Column            Non-Null Count   Dtype  \n",
      "---  ------            --------------   -----  \n",
      " 0   InvoiceNo         541909 non-null  object \n",
      " 1   StockCode         541909 non-null  object \n",
      " 2   Description       540455 non-null  object \n",
      " 3   Quantity          541909 non-null  int64  \n",
      " 4   InvoiceDate       541909 non-null  object \n",
      " 5   UnitPrice         541909 non-null  float64\n",
      " 6   CustomerID        406829 non-null  float64\n",
      " 7   Country           541909 non-null  object \n",
      " 8   TotalAmountSpent  541909 non-null  float64\n",
      "dtypes: float64(3), int64(1), object(5)\n",
      "memory usage: 37.2+ MB\n",
      "None\n"
     ]
    }
   ],
   "source": [
    "pd.set_option('display.max_columns', None) \n",
    "\n",
    "def data_overview(df, head=5):\n",
    "    print(\"-\" * 50)\n",
    "    print(\" SHAPE OF DATASET \".center(50, '-'))\n",
    "    print('Rows: {}'.format(df.shape[0]))\n",
    "    print('Columns: {}'.format(df.shape[1]))\n",
    "    print(\"-\" * 50)\n",
    "    print(\" HEAD \".center(50, '-'))\n",
    "    print(df.head(head))\n",
    "    print(\"-\" * 50)\n",
    "    print(\"DATA TYPES\".center(50, '-'))\n",
    "    print(df.dtypes.value_counts())\n",
    "    print(\"-\" * 50)\n",
    "    print(\" MISSING VALUES \".center(50, '-'))\n",
    "    print(df.isnull().sum()[df.isnull().sum() > 0].sort_values(ascending=False))\n",
    "    print(\"-\" * 50)\n",
    "    print(\" DUPLICATED VALUES \".center(50, '-'))\n",
    "    print(df.duplicated().sum())\n",
    "    print(\"-\" * 50)\n",
    "    print(\" STATISTICS OF DATA \".center(50, '-'))\n",
    "    print(df.describe(include=\"all\"))\n",
    "    print(\"-\" * 50)\n",
    "    print(\"DATA INFO\".center(50, '-'))\n",
    "    print(df.info())\n",
    "\n",
    "data_overview(data)\n"
   ]
  },
  {
   "cell_type": "markdown",
   "metadata": {},
   "source": [
    "## Dataset Overview\n",
    "\n",
    "The dataset consists of **1,067,371** rows and **8** columns. These columns encompass **5 string-type**, **1 integer-type**, and **2 float-type** data. Notably, there are missing values present in the '**Customer ID**' column (**243,007** instances) and the '**Description**' column (**4,382** instances).\r\n",
    "\r\n",
    "Transactions marked with a prefix '**c**' indicate canceled transactions and require appropriate handling during the data cleaning process. Additionally, the dataset contains **duplicated entries**.\r\n",
    "\r\n",
    "It is crucial to identify and address **negative values** and **outliers** in the '**Quantity**' and '**Price**' columns to ensure data accuracy and reliability.\r\n",
    "ty.\r\n",
    "y.\n",
    "\n"
   ]
  },
  {
   "cell_type": "markdown",
   "metadata": {},
   "source": [
    "## 2. Data Cleaning"
   ]
  },
  {
   "cell_type": "markdown",
   "metadata": {},
   "source": [
    "#### 2.1 Handle Missing Values"
   ]
  },
  {
   "cell_type": "code",
   "execution_count": 4,
   "metadata": {},
   "outputs": [
    {
     "name": "stdout",
     "output_type": "stream",
     "text": [
      "Shape of data before removing NaN's in CustomerID: (541909, 9)\n",
      "Shape of data after removing NaN's in CustomerID: (406829, 9)\n"
     ]
    }
   ],
   "source": [
    "print(\"Shape of data before removing NaN's in CustomerID:\", data.shape)\n",
    "data.dropna(subset=[\"CustomerID\"], axis=0, inplace=True)\n",
    "print(\"Shape of data after removing NaN's in CustomerID:\", data.shape)\n"
   ]
  },
  {
   "cell_type": "markdown",
   "metadata": {},
   "source": [
    "#### 2.2 Check"
   ]
  },
  {
   "cell_type": "code",
   "execution_count": 5,
   "metadata": {},
   "outputs": [
    {
     "name": "stdout",
     "output_type": "stream",
     "text": [
      "InvoiceNo           0\n",
      "StockCode           0\n",
      "Description         0\n",
      "Quantity            0\n",
      "InvoiceDate         0\n",
      "UnitPrice           0\n",
      "CustomerID          0\n",
      "Country             0\n",
      "TotalAmountSpent    0\n",
      "dtype: int64\n"
     ]
    }
   ],
   "source": [
    "print(data.isnull().sum())"
   ]
  },
  {
   "cell_type": "markdown",
   "metadata": {},
   "source": [
    "#### 2.3 Remove cancelled products by removing the InvoiceNo rows starting with 'c'"
   ]
  },
  {
   "cell_type": "code",
   "execution_count": 6,
   "metadata": {},
   "outputs": [
    {
     "name": "stdout",
     "output_type": "stream",
     "text": [
      "InvoiceNo rows starting with 'c' are removed\n"
     ]
    }
   ],
   "source": [
    "data = data[~data['InvoiceNo'].str.startswith('c')]\n",
    "print(\"InvoiceNo rows starting with 'c' are removed\")"
   ]
  },
  {
   "cell_type": "markdown",
   "metadata": {},
   "source": [
    "#### 2.4 Remove Duplicates"
   ]
  },
  {
   "cell_type": "code",
   "execution_count": 7,
   "metadata": {},
   "outputs": [
    {
     "name": "stdout",
     "output_type": "stream",
     "text": [
      "Number of duplicates before cleaning: 5225\n",
      "Number of duplicates after cleaning: 0\n"
     ]
    }
   ],
   "source": [
    "print(\"Number of duplicates before cleaning:\",data.duplicated().sum())\n",
    "data = data.drop_duplicates(keep=\"first\")\n",
    "print(\"Number of duplicates after cleaning:\",data.duplicated().sum())"
   ]
  },
  {
   "cell_type": "markdown",
   "metadata": {},
   "source": [
    "#### 2.5 Check for negative values"
   ]
  },
  {
   "cell_type": "code",
   "execution_count": 8,
   "metadata": {},
   "outputs": [
    {
     "name": "stdout",
     "output_type": "stream",
     "text": [
      "Negative value in Quantity is: 8872\n",
      "Negative value in Price is: 0\n"
     ]
    }
   ],
   "source": [
    "print(\"Negative value in Quantity is:\",(data.Quantity<0).sum())\n",
    "print(\"Negative value in Price is:\",(data.UnitPrice<0).sum())"
   ]
  },
  {
   "cell_type": "markdown",
   "metadata": {},
   "source": [
    "#### 2.6 Handle the outliers"
   ]
  },
  {
   "cell_type": "code",
   "execution_count": 9,
   "metadata": {},
   "outputs": [],
   "source": [
    "def outlier_thresholds(dataframe, variable):\n",
    "    quartile1 = dataframe[variable].quantile(0.01)\n",
    "    quartile3 = dataframe[variable].quantile(0.99)\n",
    "    interquantile_range = quartile3 - quartile1\n",
    "    up_limit = quartile3 + 1.5 * interquantile_range\n",
    "    low_limit = quartile1 - 1.5 * interquantile_range\n",
    "    return up_limit, low_limit\n",
    "\n",
    "def replace_with_threshold(dataframe, variable):\n",
    "    up_limit, low_limit = outlier_thresholds(dataframe, variable)\n",
    "    dataframe.loc[(dataframe[variable] > up_limit), variable] = up_limit"
   ]
  },
  {
   "cell_type": "code",
   "execution_count": 10,
   "metadata": {},
   "outputs": [
    {
     "data": {
      "image/png": "[encoded data removed]",
      "text/plain": [
       "<Figure size 2000x500 with 2 Axes>"
      ]
     },
     "metadata": {},
     "output_type": "display_data"
    }
   ],
   "source": [
    "f, ax = plt.subplots(2,1, figsize = (20,5))\n",
    "col_list = [\"Quantity\",\"UnitPrice\"]\n",
    "for i in range(0,2):\n",
    "    ax[i].boxplot(data[col_list[i]],flierprops = dict(marker = \"s\", markerfacecolor = \"green\"), vert = 0)\n",
    "plt.show()"
   ]
  },
  {
   "cell_type": "code",
   "execution_count": 11,
   "metadata": {},
   "outputs": [],
   "source": [
    "replace_with_threshold(data, \"Quantity\")\n",
    "replace_with_threshold(data, \"UnitPrice\")"
   ]
  },
  {
   "cell_type": "code",
   "execution_count": 12,
   "metadata": {},
   "outputs": [
    {
     "data": {
      "image/png": "[encoded data removed]",
      "text/plain": [
       "<Figure size 2000x500 with 2 Axes>"
      ]
     },
     "metadata": {},
     "output_type": "display_data"
    }
   ],
   "source": [
    "f, ax = plt.subplots(2,1, figsize = (20,5))\n",
    "for i in range(0,2):\n",
    "    ax[i].boxplot(data[col_list[i]],flierprops = dict(marker = \"s\", markerfacecolor = \"green\"), vert = 0)\n",
    "plt.show()"
   ]
  },
  {
   "cell_type": "markdown",
   "metadata": {},
   "source": [
    "## feature manipulation"
   ]
  },
  {
   "cell_type": "code",
   "execution_count": 13,
   "metadata": {},
   "outputs": [],
   "source": [
    "data[\"Revenue\"] = data[\"Quantity\"] * data[\"UnitPrice\"]"
   ]
  },
  {
   "cell_type": "code",
   "execution_count": 14,
   "metadata": {},
   "outputs": [],
   "source": [
    "data['InvoiceDate'] = pd.to_datetime(data['InvoiceDate'])"
   ]
  },
  {
   "cell_type": "code",
   "execution_count": 15,
   "metadata": {},
   "outputs": [
    {
     "name": "stdout",
     "output_type": "stream",
     "text": [
      "Max date : 2011-12-09 12:50:00\n",
      "Min date : 2010-12-01 08:26:00\n"
     ]
    }
   ],
   "source": [
    "print(\"Max date :\",data[\"InvoiceDate\"].max())\n",
    "print(\"Min date :\",data[\"InvoiceDate\"].min())"
   ]
  },
  {
   "cell_type": "markdown",
   "metadata": {},
   "source": [
    "## 3. Statistics"
   ]
  },
  {
   "cell_type": "code",
   "execution_count": 16,
   "metadata": {},
   "outputs": [
    {
     "data": {
      "text/html": [
       "<style type=\"text/css\">\n",
       "#T_0f690_row0_col0, #T_0f690_row0_col1, #T_0f690_row0_col2, #T_0f690_row0_col3, #T_0f690_row1_col0, #T_0f690_row1_col1, #T_0f690_row1_col2, #T_0f690_row1_col3, #T_0f690_row2_col0, #T_0f690_row2_col1, #T_0f690_row2_col2, #T_0f690_row2_col3, #T_0f690_row3_col0, #T_0f690_row3_col1, #T_0f690_row3_col2, #T_0f690_row3_col3, #T_0f690_row4_col0, #T_0f690_row4_col1, #T_0f690_row4_col2, #T_0f690_row4_col3 {\n",
       "  background-color: #ffffff;\n",
       "  color: black;\n",
       "  border-color: black;\n",
       "}\n",
       "</style>\n",
       "<table id=\"T_0f690\">\n",
       "  <thead>\n",
       "    <tr>\n",
       "      <th class=\"blank level0\" >&nbsp;</th>\n",
       "      <th id=\"T_0f690_level0_col0\" class=\"col_heading level0 col0\" >CustomerID</th>\n",
       "      <th id=\"T_0f690_level0_col1\" class=\"col_heading level0 col1\" >Recency</th>\n",
       "      <th id=\"T_0f690_level0_col2\" class=\"col_heading level0 col2\" >Frequency</th>\n",
       "      <th id=\"T_0f690_level0_col3\" class=\"col_heading level0 col3\" >Monetary</th>\n",
       "    </tr>\n",
       "  </thead>\n",
       "  <tbody>\n",
       "    <tr>\n",
       "      <th id=\"T_0f690_level0_row0\" class=\"row_heading level0 row0\" >0</th>\n",
       "      <td id=\"T_0f690_row0_col0\" class=\"data row0 col0\" >12346.000000</td>\n",
       "      <td id=\"T_0f690_row0_col1\" class=\"data row0 col1\" >325</td>\n",
       "      <td id=\"T_0f690_row0_col2\" class=\"data row0 col2\" >2</td>\n",
       "      <td id=\"T_0f690_row0_col3\" class=\"data row0 col3\" >-76868.480000</td>\n",
       "    </tr>\n",
       "    <tr>\n",
       "      <th id=\"T_0f690_level0_row1\" class=\"row_heading level0 row1\" >1</th>\n",
       "      <td id=\"T_0f690_row1_col0\" class=\"data row1 col0\" >12347.000000</td>\n",
       "      <td id=\"T_0f690_row1_col1\" class=\"data row1 col1\" >2</td>\n",
       "      <td id=\"T_0f690_row1_col2\" class=\"data row1 col2\" >7</td>\n",
       "      <td id=\"T_0f690_row1_col3\" class=\"data row1 col3\" >4310.000000</td>\n",
       "    </tr>\n",
       "    <tr>\n",
       "      <th id=\"T_0f690_level0_row2\" class=\"row_heading level0 row2\" >2</th>\n",
       "      <td id=\"T_0f690_row2_col0\" class=\"data row2 col0\" >12348.000000</td>\n",
       "      <td id=\"T_0f690_row2_col1\" class=\"data row2 col1\" >75</td>\n",
       "      <td id=\"T_0f690_row2_col2\" class=\"data row2 col2\" >4</td>\n",
       "      <td id=\"T_0f690_row2_col3\" class=\"data row2 col3\" >1771.905000</td>\n",
       "    </tr>\n",
       "    <tr>\n",
       "      <th id=\"T_0f690_level0_row3\" class=\"row_heading level0 row3\" >3</th>\n",
       "      <td id=\"T_0f690_row3_col0\" class=\"data row3 col0\" >12349.000000</td>\n",
       "      <td id=\"T_0f690_row3_col1\" class=\"data row3 col1\" >18</td>\n",
       "      <td id=\"T_0f690_row3_col2\" class=\"data row3 col2\" >1</td>\n",
       "      <td id=\"T_0f690_row3_col3\" class=\"data row3 col3\" >1491.970000</td>\n",
       "    </tr>\n",
       "    <tr>\n",
       "      <th id=\"T_0f690_level0_row4\" class=\"row_heading level0 row4\" >4</th>\n",
       "      <td id=\"T_0f690_row4_col0\" class=\"data row4 col0\" >12350.000000</td>\n",
       "      <td id=\"T_0f690_row4_col1\" class=\"data row4 col1\" >310</td>\n",
       "      <td id=\"T_0f690_row4_col2\" class=\"data row4 col2\" >1</td>\n",
       "      <td id=\"T_0f690_row4_col3\" class=\"data row4 col3\" >331.585000</td>\n",
       "    </tr>\n",
       "  </tbody>\n",
       "</table>\n"
      ],
      "text/plain": [
       "<pandas.io.formats.style.Styler at 0x217b2b79090>"
      ]
     },
     "execution_count": 16,
     "metadata": {},
     "output_type": "execute_result"
    }
   ],
   "source": [
    "import datetime as dt\n",
    "#Set Latest date 2011-12-10 as last invoice date was 2011-12-09.\n",
    "Latest_Date = dt.datetime(2011,12,10)\n",
    "\n",
    "RFM = data.groupby('CustomerID').agg({'InvoiceDate': lambda x: (Latest_Date - x.max()).days, \n",
    "                                                 'InvoiceNo': lambda x: x.nunique(), \n",
    "                                                 \"Revenue\": lambda x: x.sum()})\n",
    "                                \n",
    "RFM['InvoiceDate'] = RFM['InvoiceDate'].astype(int)\n",
    "\n",
    "RFM.rename(columns={'InvoiceDate': 'Recency', \n",
    "                         'InvoiceNo': 'Frequency', \n",
    "                         'Revenue': 'Monetary'}, inplace=True)\n",
    "\n",
    "RFM.reset_index().head().style.set_properties(**{\"background-color\": \"#ffffff\",\"color\": \"black\", \"border-color\": \"black\"})"
   ]
  },
  {
   "cell_type": "code",
   "execution_count": 17,
   "metadata": {},
   "outputs": [
    {
     "data": {
      "text/html": [
       "<div>\n",
       "<style scoped>\n",
       "    .dataframe tbody tr th:only-of-type {\n",
       "        vertical-align: middle;\n",
       "    }\n",
       "\n",
       "    .dataframe tbody tr th {\n",
       "        vertical-align: top;\n",
       "    }\n",
       "\n",
       "    .dataframe thead th {\n",
       "        text-align: right;\n",
       "    }\n",
       "</style>\n",
       "<table border=\"1\" class=\"dataframe\">\n",
       "  <thead>\n",
       "    <tr style=\"text-align: right;\">\n",
       "      <th></th>\n",
       "      <th>Recency</th>\n",
       "      <th>Frequency</th>\n",
       "      <th>Monetary</th>\n",
       "    </tr>\n",
       "    <tr>\n",
       "      <th>CustomerID</th>\n",
       "      <th></th>\n",
       "      <th></th>\n",
       "      <th></th>\n",
       "    </tr>\n",
       "  </thead>\n",
       "  <tbody>\n",
       "    <tr>\n",
       "      <th>12346.0</th>\n",
       "      <td>325</td>\n",
       "      <td>2</td>\n",
       "      <td>-76868.480</td>\n",
       "    </tr>\n",
       "    <tr>\n",
       "      <th>12347.0</th>\n",
       "      <td>2</td>\n",
       "      <td>7</td>\n",
       "      <td>4310.000</td>\n",
       "    </tr>\n",
       "    <tr>\n",
       "      <th>12348.0</th>\n",
       "      <td>75</td>\n",
       "      <td>4</td>\n",
       "      <td>1771.905</td>\n",
       "    </tr>\n",
       "    <tr>\n",
       "      <th>12352.0</th>\n",
       "      <td>36</td>\n",
       "      <td>11</td>\n",
       "      <td>1525.705</td>\n",
       "    </tr>\n",
       "    <tr>\n",
       "      <th>12356.0</th>\n",
       "      <td>22</td>\n",
       "      <td>3</td>\n",
       "      <td>2811.430</td>\n",
       "    </tr>\n",
       "  </tbody>\n",
       "</table>\n",
       "</div>"
      ],
      "text/plain": [
       "            Recency  Frequency   Monetary\n",
       "CustomerID                               \n",
       "12346.0         325          2 -76868.480\n",
       "12347.0           2          7   4310.000\n",
       "12348.0          75          4   1771.905\n",
       "12352.0          36         11   1525.705\n",
       "12356.0          22          3   2811.430"
      ]
     },
     "execution_count": 17,
     "metadata": {},
     "output_type": "execute_result"
    }
   ],
   "source": [
    "RFM = RFM[(RFM[\"Frequency\"]>1)]\n",
    "RFM.head()"
   ]
  },
  {
   "cell_type": "code",
   "execution_count": 18,
   "metadata": {},
   "outputs": [],
   "source": [
    "Shopping_Cycle = data.groupby('CustomerID').agg({'InvoiceDate': lambda x: ((x.max() - x.min()).days)})"
   ]
  },
  {
   "cell_type": "code",
   "execution_count": 19,
   "metadata": {},
   "outputs": [
    {
     "data": {
      "text/html": [
       "<div>\n",
       "<style scoped>\n",
       "    .dataframe tbody tr th:only-of-type {\n",
       "        vertical-align: middle;\n",
       "    }\n",
       "\n",
       "    .dataframe tbody tr th {\n",
       "        vertical-align: top;\n",
       "    }\n",
       "\n",
       "    .dataframe thead th {\n",
       "        text-align: right;\n",
       "    }\n",
       "</style>\n",
       "<table border=\"1\" class=\"dataframe\">\n",
       "  <thead>\n",
       "    <tr style=\"text-align: right;\">\n",
       "      <th></th>\n",
       "      <th>Recency</th>\n",
       "      <th>Frequency</th>\n",
       "      <th>Monetary</th>\n",
       "      <th>Shopping_Cycle</th>\n",
       "    </tr>\n",
       "    <tr>\n",
       "      <th>CustomerID</th>\n",
       "      <th></th>\n",
       "      <th></th>\n",
       "      <th></th>\n",
       "      <th></th>\n",
       "    </tr>\n",
       "  </thead>\n",
       "  <tbody>\n",
       "    <tr>\n",
       "      <th>12346.0</th>\n",
       "      <td>325</td>\n",
       "      <td>2</td>\n",
       "      <td>-76868.480</td>\n",
       "      <td>0</td>\n",
       "    </tr>\n",
       "    <tr>\n",
       "      <th>12347.0</th>\n",
       "      <td>2</td>\n",
       "      <td>7</td>\n",
       "      <td>4310.000</td>\n",
       "      <td>365</td>\n",
       "    </tr>\n",
       "    <tr>\n",
       "      <th>12348.0</th>\n",
       "      <td>75</td>\n",
       "      <td>4</td>\n",
       "      <td>1771.905</td>\n",
       "      <td>282</td>\n",
       "    </tr>\n",
       "    <tr>\n",
       "      <th>12352.0</th>\n",
       "      <td>36</td>\n",
       "      <td>11</td>\n",
       "      <td>1525.705</td>\n",
       "      <td>260</td>\n",
       "    </tr>\n",
       "    <tr>\n",
       "      <th>12356.0</th>\n",
       "      <td>22</td>\n",
       "      <td>3</td>\n",
       "      <td>2811.430</td>\n",
       "      <td>302</td>\n",
       "    </tr>\n",
       "  </tbody>\n",
       "</table>\n",
       "</div>"
      ],
      "text/plain": [
       "            Recency  Frequency   Monetary  Shopping_Cycle\n",
       "CustomerID                                               \n",
       "12346.0         325          2 -76868.480               0\n",
       "12347.0           2          7   4310.000             365\n",
       "12348.0          75          4   1771.905             282\n",
       "12352.0          36         11   1525.705             260\n",
       "12356.0          22          3   2811.430             302"
      ]
     },
     "execution_count": 19,
     "metadata": {},
     "output_type": "execute_result"
    }
   ],
   "source": [
    "RFM[\"Shopping_Cycle\"] = Shopping_Cycle\n",
    "RFM.head()"
   ]
  },
  {
   "cell_type": "code",
   "execution_count": 20,
   "metadata": {},
   "outputs": [
    {
     "data": {
      "text/html": [
       "<div>\n",
       "<style scoped>\n",
       "    .dataframe tbody tr th:only-of-type {\n",
       "        vertical-align: middle;\n",
       "    }\n",
       "\n",
       "    .dataframe tbody tr th {\n",
       "        vertical-align: top;\n",
       "    }\n",
       "\n",
       "    .dataframe thead th {\n",
       "        text-align: right;\n",
       "    }\n",
       "</style>\n",
       "<table border=\"1\" class=\"dataframe\">\n",
       "  <thead>\n",
       "    <tr style=\"text-align: right;\">\n",
       "      <th></th>\n",
       "      <th>Recency</th>\n",
       "      <th>Frequency</th>\n",
       "      <th>Monetary</th>\n",
       "      <th>Interpurchase_Time</th>\n",
       "    </tr>\n",
       "    <tr>\n",
       "      <th>CustomerID</th>\n",
       "      <th></th>\n",
       "      <th></th>\n",
       "      <th></th>\n",
       "      <th></th>\n",
       "    </tr>\n",
       "  </thead>\n",
       "  <tbody>\n",
       "    <tr>\n",
       "      <th>12346.0</th>\n",
       "      <td>325</td>\n",
       "      <td>2</td>\n",
       "      <td>-76868.480</td>\n",
       "      <td>0</td>\n",
       "    </tr>\n",
       "    <tr>\n",
       "      <th>12347.0</th>\n",
       "      <td>2</td>\n",
       "      <td>7</td>\n",
       "      <td>4310.000</td>\n",
       "      <td>52</td>\n",
       "    </tr>\n",
       "    <tr>\n",
       "      <th>12348.0</th>\n",
       "      <td>75</td>\n",
       "      <td>4</td>\n",
       "      <td>1771.905</td>\n",
       "      <td>70</td>\n",
       "    </tr>\n",
       "    <tr>\n",
       "      <th>12352.0</th>\n",
       "      <td>36</td>\n",
       "      <td>11</td>\n",
       "      <td>1525.705</td>\n",
       "      <td>23</td>\n",
       "    </tr>\n",
       "    <tr>\n",
       "      <th>12356.0</th>\n",
       "      <td>22</td>\n",
       "      <td>3</td>\n",
       "      <td>2811.430</td>\n",
       "      <td>100</td>\n",
       "    </tr>\n",
       "  </tbody>\n",
       "</table>\n",
       "</div>"
      ],
      "text/plain": [
       "            Recency  Frequency   Monetary  Interpurchase_Time\n",
       "CustomerID                                                   \n",
       "12346.0         325          2 -76868.480                   0\n",
       "12347.0           2          7   4310.000                  52\n",
       "12348.0          75          4   1771.905                  70\n",
       "12352.0          36         11   1525.705                  23\n",
       "12356.0          22          3   2811.430                 100"
      ]
     },
     "execution_count": 20,
     "metadata": {},
     "output_type": "execute_result"
    }
   ],
   "source": [
    "RFM[\"Interpurchase_Time\"] = RFM[\"Shopping_Cycle\"] // RFM[\"Frequency\"]\n",
    "RFMT = RFM[[\"Recency\",\"Frequency\",\"Monetary\",\"Interpurchase_Time\"]]\n",
    "RFMT.head()"
   ]
  },
  {
   "cell_type": "markdown",
   "metadata": {},
   "source": [
    "## 4. Customer Segmentation"
   ]
  },
  {
   "cell_type": "code",
   "execution_count": 21,
   "metadata": {},
   "outputs": [
    {
     "name": "stdout",
     "output_type": "stream",
     "text": [
      "Requirement already satisfied: yellowbrick in c:\\users\\smit\\appdata\\local\\programs\\python\\python311\\lib\\site-packages (1.5)\n",
      "Requirement already satisfied: matplotlib!=3.0.0,>=2.0.2 in c:\\users\\smit\\appdata\\local\\programs\\python\\python311\\lib\\site-packages (from yellowbrick) (3.8.0)\n",
      "Requirement already satisfied: scipy>=1.0.0 in c:\\users\\smit\\appdata\\local\\programs\\python\\python311\\lib\\site-packages (from yellowbrick) (1.11.3)\n",
      "Requirement already satisfied: scikit-learn>=1.0.0 in c:\\users\\smit\\appdata\\local\\programs\\python\\python311\\lib\\site-packages (from yellowbrick) (1.3.1)\n",
      "Requirement already satisfied: numpy>=1.16.0 in c:\\users\\smit\\appdata\\local\\programs\\python\\python311\\lib\\site-packages (from yellowbrick) (1.25.2)\n",
      "Requirement already satisfied: cycler>=0.10.0 in c:\\users\\smit\\appdata\\local\\programs\\python\\python311\\lib\\site-packages (from yellowbrick) (0.12.1)\n",
      "Requirement already satisfied: contourpy>=1.0.1 in c:\\users\\smit\\appdata\\local\\programs\\python\\python311\\lib\\site-packages (from matplotlib!=3.0.0,>=2.0.2->yellowbrick) (1.1.1)\n",
      "Requirement already satisfied: fonttools>=4.22.0 in c:\\users\\smit\\appdata\\local\\programs\\python\\python311\\lib\\site-packages (from matplotlib!=3.0.0,>=2.0.2->yellowbrick) (4.43.1)\n",
      "Requirement already satisfied: kiwisolver>=1.0.1 in c:\\users\\smit\\appdata\\local\\programs\\python\\python311\\lib\\site-packages (from matplotlib!=3.0.0,>=2.0.2->yellowbrick) (1.4.5)\n",
      "Requirement already satisfied: packaging>=20.0 in c:\\users\\smit\\appdata\\local\\programs\\python\\python311\\lib\\site-packages (from matplotlib!=3.0.0,>=2.0.2->yellowbrick) (23.1)\n",
      "Requirement already satisfied: pillow>=6.2.0 in c:\\users\\smit\\appdata\\local\\programs\\python\\python311\\lib\\site-packages (from matplotlib!=3.0.0,>=2.0.2->yellowbrick) (10.0.1)\n",
      "Requirement already satisfied: pyparsing>=2.3.1 in c:\\users\\smit\\appdata\\local\\programs\\python\\python311\\lib\\site-packages (from matplotlib!=3.0.0,>=2.0.2->yellowbrick) (3.1.1)\n",
      "Requirement already satisfied: python-dateutil>=2.7 in c:\\users\\smit\\appdata\\local\\programs\\python\\python311\\lib\\site-packages (from matplotlib!=3.0.0,>=2.0.2->yellowbrick) (2.8.2)\n",
      "Requirement already satisfied: joblib>=1.1.1 in c:\\users\\smit\\appdata\\local\\programs\\python\\python311\\lib\\site-packages (from scikit-learn>=1.0.0->yellowbrick) (1.3.2)\n",
      "Requirement already satisfied: threadpoolctl>=2.0.0 in c:\\users\\smit\\appdata\\local\\programs\\python\\python311\\lib\\site-packages (from scikit-learn>=1.0.0->yellowbrick) (3.2.0)\n",
      "Requirement already satisfied: six>=1.5 in c:\\users\\smit\\appdata\\local\\programs\\python\\python311\\lib\\site-packages (from python-dateutil>=2.7->matplotlib!=3.0.0,>=2.0.2->yellowbrick) (1.16.0)\n"
     ]
    },
    {
     "name": "stderr",
     "output_type": "stream",
     "text": [
      "\n",
      "[notice] A new release of pip is available: 23.2.1 -> 23.3\n",
      "[notice] To update, run: python.exe -m pip install --upgrade pip\n"
     ]
    }
   ],
   "source": [
    "!pip install yellowbrick\n"
   ]
  },
  {
   "cell_type": "code",
   "execution_count": 22,
   "metadata": {},
   "outputs": [
    {
     "name": "stderr",
     "output_type": "stream",
     "text": [
      "C:\\Users\\Smit\\AppData\\Local\\Programs\\Python\\Python311\\Lib\\site-packages\\sklearn\\cluster\\_kmeans.py:1416: FutureWarning: The default value of `n_init` will change from 10 to 'auto' in 1.4. Set the value of `n_init` explicitly to suppress the warning\n",
      "  super()._check_params_vs_input(X, default_n_init=10)\n",
      "C:\\Users\\Smit\\AppData\\Local\\Programs\\Python\\Python311\\Lib\\site-packages\\sklearn\\cluster\\_kmeans.py:1416: FutureWarning: The default value of `n_init` will change from 10 to 'auto' in 1.4. Set the value of `n_init` explicitly to suppress the warning\n",
      "  super()._check_params_vs_input(X, default_n_init=10)\n",
      "C:\\Users\\Smit\\AppData\\Local\\Programs\\Python\\Python311\\Lib\\site-packages\\sklearn\\cluster\\_kmeans.py:1416: FutureWarning: The default value of `n_init` will change from 10 to 'auto' in 1.4. Set the value of `n_init` explicitly to suppress the warning\n",
      "  super()._check_params_vs_input(X, default_n_init=10)\n",
      "C:\\Users\\Smit\\AppData\\Local\\Programs\\Python\\Python311\\Lib\\site-packages\\sklearn\\cluster\\_kmeans.py:1416: FutureWarning: The default value of `n_init` will change from 10 to 'auto' in 1.4. Set the value of `n_init` explicitly to suppress the warning\n",
      "  super()._check_params_vs_input(X, default_n_init=10)\n",
      "C:\\Users\\Smit\\AppData\\Local\\Programs\\Python\\Python311\\Lib\\site-packages\\sklearn\\cluster\\_kmeans.py:1416: FutureWarning: The default value of `n_init` will change from 10 to 'auto' in 1.4. Set the value of `n_init` explicitly to suppress the warning\n",
      "  super()._check_params_vs_input(X, default_n_init=10)\n",
      "C:\\Users\\Smit\\AppData\\Local\\Programs\\Python\\Python311\\Lib\\site-packages\\sklearn\\cluster\\_kmeans.py:1416: FutureWarning: The default value of `n_init` will change from 10 to 'auto' in 1.4. Set the value of `n_init` explicitly to suppress the warning\n",
      "  super()._check_params_vs_input(X, default_n_init=10)\n",
      "C:\\Users\\Smit\\AppData\\Local\\Programs\\Python\\Python311\\Lib\\site-packages\\sklearn\\cluster\\_kmeans.py:1416: FutureWarning: The default value of `n_init` will change from 10 to 'auto' in 1.4. Set the value of `n_init` explicitly to suppress the warning\n",
      "  super()._check_params_vs_input(X, default_n_init=10)\n",
      "C:\\Users\\Smit\\AppData\\Local\\Programs\\Python\\Python311\\Lib\\site-packages\\sklearn\\cluster\\_kmeans.py:1416: FutureWarning: The default value of `n_init` will change from 10 to 'auto' in 1.4. Set the value of `n_init` explicitly to suppress the warning\n",
      "  super()._check_params_vs_input(X, default_n_init=10)\n",
      "C:\\Users\\Smit\\AppData\\Local\\Programs\\Python\\Python311\\Lib\\site-packages\\sklearn\\cluster\\_kmeans.py:1416: FutureWarning: The default value of `n_init` will change from 10 to 'auto' in 1.4. Set the value of `n_init` explicitly to suppress the warning\n",
      "  super()._check_params_vs_input(X, default_n_init=10)\n",
      "C:\\Users\\Smit\\AppData\\Local\\Programs\\Python\\Python311\\Lib\\site-packages\\sklearn\\cluster\\_kmeans.py:1416: FutureWarning: The default value of `n_init` will change from 10 to 'auto' in 1.4. Set the value of `n_init` explicitly to suppress the warning\n",
      "  super()._check_params_vs_input(X, default_n_init=10)\n",
      "C:\\Users\\Smit\\AppData\\Local\\Programs\\Python\\Python311\\Lib\\site-packages\\sklearn\\cluster\\_kmeans.py:1416: FutureWarning: The default value of `n_init` will change from 10 to 'auto' in 1.4. Set the value of `n_init` explicitly to suppress the warning\n",
      "  super()._check_params_vs_input(X, default_n_init=10)\n"
     ]
    },
    {
     "data": {
      "image/png": "[encoded data removed]",
      "text/plain": [
       "<Figure size 800x500 with 2 Axes>"
      ]
     },
     "metadata": {},
     "output_type": "display_data"
    },
    {
     "name": "stdout",
     "output_type": "stream",
     "text": [
      "Therefore K = 4\n"
     ]
    }
   ],
   "source": [
    "from yellowbrick.cluster import KElbowVisualizer\n",
    "from sklearn.cluster import KMeans\n",
    "plt.figure(figsize=(8,5))\n",
    "ax = plt.axes()\n",
    "ax.set_facecolor(\"#000000\")\n",
    "Elbow_M = KElbowVisualizer(KMeans(), k=12) \n",
    "Elbow_M.fit(RFMT)\n",
    "Elbow_M.show()\n",
    "print(\"Therefore K = 4\")"
   ]
  },
  {
   "cell_type": "code",
   "execution_count": 23,
   "metadata": {},
   "outputs": [
    {
     "name": "stderr",
     "output_type": "stream",
     "text": [
      "C:\\Users\\Smit\\AppData\\Local\\Programs\\Python\\Python311\\Lib\\site-packages\\sklearn\\cluster\\_kmeans.py:1416: FutureWarning: The default value of `n_init` will change from 10 to 'auto' in 1.4. Set the value of `n_init` explicitly to suppress the warning\n",
      "  super()._check_params_vs_input(X, default_n_init=10)\n"
     ]
    },
    {
     "data": {
      "text/html": [
       "<style>#sk-container-id-1 {color: black;}#sk-container-id-1 pre{padding: 0;}#sk-container-id-1 div.sk-toggleable {background-color: white;}#sk-container-id-1 label.sk-toggleable__label {cursor: pointer;display: block;width: 100%;margin-bottom: 0;padding: 0.3em;box-sizing: border-box;text-align: center;}#sk-container-id-1 label.sk-toggleable__label-arrow:before {content: \"▸\";float: left;margin-right: 0.25em;color: #696969;}#sk-container-id-1 label.sk-toggleable__label-arrow:hover:before {color: black;}#sk-container-id-1 div.sk-estimator:hover label.sk-toggleable__label-arrow:before {color: black;}#sk-container-id-1 div.sk-toggleable__content {max-height: 0;max-width: 0;overflow: hidden;text-align: left;background-color: #f0f8ff;}#sk-container-id-1 div.sk-toggleable__content pre {margin: 0.2em;color: black;border-radius: 0.25em;background-color: #f0f8ff;}#sk-container-id-1 input.sk-toggleable__control:checked~div.sk-toggleable__content {max-height: 200px;max-width: 100%;overflow: auto;}#sk-container-id-1 input.sk-toggleable__control:checked~label.sk-toggleable__label-arrow:before {content: \"▾\";}#sk-container-id-1 div.sk-estimator input.sk-toggleable__control:checked~label.sk-toggleable__label {background-color: #d4ebff;}#sk-container-id-1 div.sk-label input.sk-toggleable__control:checked~label.sk-toggleable__label {background-color: #d4ebff;}#sk-container-id-1 input.sk-hidden--visually {border: 0;clip: rect(1px 1px 1px 1px);clip: rect(1px, 1px, 1px, 1px);height: 1px;margin: -1px;overflow: hidden;padding: 0;position: absolute;width: 1px;}#sk-container-id-1 div.sk-estimator {font-family: monospace;background-color: #f0f8ff;border: 1px dotted black;border-radius: 0.25em;box-sizing: border-box;margin-bottom: 0.5em;}#sk-container-id-1 div.sk-estimator:hover {background-color: #d4ebff;}#sk-container-id-1 div.sk-parallel-item::after {content: \"\";width: 100%;border-bottom: 1px solid gray;flex-grow: 1;}#sk-container-id-1 div.sk-label:hover label.sk-toggleable__label {background-color: #d4ebff;}#sk-container-id-1 div.sk-serial::before {content: \"\";position: absolute;border-left: 1px solid gray;box-sizing: border-box;top: 0;bottom: 0;left: 50%;z-index: 0;}#sk-container-id-1 div.sk-serial {display: flex;flex-direction: column;align-items: center;background-color: white;padding-right: 0.2em;padding-left: 0.2em;position: relative;}#sk-container-id-1 div.sk-item {position: relative;z-index: 1;}#sk-container-id-1 div.sk-parallel {display: flex;align-items: stretch;justify-content: center;background-color: white;position: relative;}#sk-container-id-1 div.sk-item::before, #sk-container-id-1 div.sk-parallel-item::before {content: \"\";position: absolute;border-left: 1px solid gray;box-sizing: border-box;top: 0;bottom: 0;left: 50%;z-index: -1;}#sk-container-id-1 div.sk-parallel-item {display: flex;flex-direction: column;z-index: 1;position: relative;background-color: white;}#sk-container-id-1 div.sk-parallel-item:first-child::after {align-self: flex-end;width: 50%;}#sk-container-id-1 div.sk-parallel-item:last-child::after {align-self: flex-start;width: 50%;}#sk-container-id-1 div.sk-parallel-item:only-child::after {width: 0;}#sk-container-id-1 div.sk-dashed-wrapped {border: 1px dashed gray;margin: 0 0.4em 0.5em 0.4em;box-sizing: border-box;padding-bottom: 0.4em;background-color: white;}#sk-container-id-1 div.sk-label label {font-family: monospace;font-weight: bold;display: inline-block;line-height: 1.2em;}#sk-container-id-1 div.sk-label-container {text-align: center;}#sk-container-id-1 div.sk-container {/* jupyter's `normalize.less` sets `[hidden] { display: none; }` but bootstrap.min.css set `[hidden] { display: none !important; }` so we also need the `!important` here to be able to override the default hidden behavior on the sphinx rendered scikit-learn.org. See: https://github.com/scikit-learn/scikit-learn/issues/21755 */display: inline-block !important;position: relative;}#sk-container-id-1 div.sk-text-repr-fallback {display: none;}</style><div id=\"sk-container-id-1\" class=\"sk-top-container\"><div class=\"sk-text-repr-fallback\"><pre>KMeans(max_iter=50, n_clusters=4)</pre><b>In a Jupyter environment, please rerun this cell to show the HTML representation or trust the notebook. <br />On GitHub, the HTML representation is unable to render, please try loading this page with nbviewer.org.</b></div><div class=\"sk-container\" hidden><div class=\"sk-item\"><div class=\"sk-estimator sk-toggleable\"><input class=\"sk-toggleable__control sk-hidden--visually\" id=\"sk-estimator-id-1\" type=\"checkbox\" checked><label for=\"sk-estimator-id-1\" class=\"sk-toggleable__label sk-toggleable__label-arrow\">KMeans</label><div class=\"sk-toggleable__content\"><pre>KMeans(max_iter=50, n_clusters=4)</pre></div></div></div></div></div>"
      ],
      "text/plain": [
       "KMeans(max_iter=50, n_clusters=4)"
      ]
     },
     "execution_count": 23,
     "metadata": {},
     "output_type": "execute_result"
    }
   ],
   "source": [
    "#Fitting KMeans Model\n",
    "kmeans = KMeans(n_clusters=4,max_iter=50)\n",
    "kmeans.fit(RFMT)"
   ]
  },
  {
   "cell_type": "code",
   "execution_count": 24,
   "metadata": {},
   "outputs": [
    {
     "data": {
      "text/html": [
       "<div>\n",
       "<style scoped>\n",
       "    .dataframe tbody tr th:only-of-type {\n",
       "        vertical-align: middle;\n",
       "    }\n",
       "\n",
       "    .dataframe tbody tr th {\n",
       "        vertical-align: top;\n",
       "    }\n",
       "\n",
       "    .dataframe thead th {\n",
       "        text-align: right;\n",
       "    }\n",
       "</style>\n",
       "<table border=\"1\" class=\"dataframe\">\n",
       "  <thead>\n",
       "    <tr style=\"text-align: right;\">\n",
       "      <th></th>\n",
       "      <th>Recency</th>\n",
       "      <th>Frequency</th>\n",
       "      <th>Monetary</th>\n",
       "      <th>Interpurchase_Time</th>\n",
       "      <th>Clusters</th>\n",
       "    </tr>\n",
       "    <tr>\n",
       "      <th>CustomerID</th>\n",
       "      <th></th>\n",
       "      <th></th>\n",
       "      <th></th>\n",
       "      <th></th>\n",
       "      <th></th>\n",
       "    </tr>\n",
       "  </thead>\n",
       "  <tbody>\n",
       "    <tr>\n",
       "      <th>12346.0</th>\n",
       "      <td>325</td>\n",
       "      <td>2</td>\n",
       "      <td>-76868.480</td>\n",
       "      <td>0</td>\n",
       "      <td>3</td>\n",
       "    </tr>\n",
       "    <tr>\n",
       "      <th>12347.0</th>\n",
       "      <td>2</td>\n",
       "      <td>7</td>\n",
       "      <td>4310.000</td>\n",
       "      <td>52</td>\n",
       "      <td>0</td>\n",
       "    </tr>\n",
       "    <tr>\n",
       "      <th>12348.0</th>\n",
       "      <td>75</td>\n",
       "      <td>4</td>\n",
       "      <td>1771.905</td>\n",
       "      <td>70</td>\n",
       "      <td>0</td>\n",
       "    </tr>\n",
       "    <tr>\n",
       "      <th>12352.0</th>\n",
       "      <td>36</td>\n",
       "      <td>11</td>\n",
       "      <td>1525.705</td>\n",
       "      <td>23</td>\n",
       "      <td>0</td>\n",
       "    </tr>\n",
       "    <tr>\n",
       "      <th>12356.0</th>\n",
       "      <td>22</td>\n",
       "      <td>3</td>\n",
       "      <td>2811.430</td>\n",
       "      <td>100</td>\n",
       "      <td>0</td>\n",
       "    </tr>\n",
       "  </tbody>\n",
       "</table>\n",
       "</div>"
      ],
      "text/plain": [
       "            Recency  Frequency   Monetary  Interpurchase_Time  Clusters\n",
       "CustomerID                                                             \n",
       "12346.0         325          2 -76868.480                   0         3\n",
       "12347.0           2          7   4310.000                  52         0\n",
       "12348.0          75          4   1771.905                  70         0\n",
       "12352.0          36         11   1525.705                  23         0\n",
       "12356.0          22          3   2811.430                 100         0"
      ]
     },
     "execution_count": 24,
     "metadata": {},
     "output_type": "execute_result"
    }
   ],
   "source": [
    "RFMT[\"Clusters\"]=kmeans.labels_\n",
    "RFMT.head()"
   ]
  },
  {
   "cell_type": "code",
   "execution_count": 25,
   "metadata": {},
   "outputs": [
    {
     "data": {
      "text/plain": [
       "array([[ 6.39702479e+01,  6.20363636e+00,  1.80919595e+03,\n",
       "         3.97685950e+01],\n",
       "       [ 7.16666667e+00,  8.90000000e+01,  1.64839268e+05,\n",
       "         5.50000000e+00],\n",
       "       [ 6.26923077e+00,  6.04615385e+01,  4.11886142e+04,\n",
       "         8.46153846e+00],\n",
       "       [ 1.62500000e+02,  2.50000000e+00, -1.22352470e+05,\n",
       "         3.40000000e+01]])"
      ]
     },
     "execution_count": 25,
     "metadata": {},
     "output_type": "execute_result"
    }
   ],
   "source": [
    "kmeans.cluster_centers_"
   ]
  },
  {
   "cell_type": "markdown",
   "metadata": {},
   "source": [
    "## 5. Visualisation"
   ]
  },
  {
   "cell_type": "code",
   "execution_count": 26,
   "metadata": {},
   "outputs": [
    {
     "data": {
      "text/plain": [
       "<function matplotlib.pyplot.show(close=None, block=None)>"
      ]
     },
     "execution_count": 26,
     "metadata": {},
     "output_type": "execute_result"
    },
    {
     "data": {
      "image/png": "[encoded data removed]",
      "text/plain": [
       "<Figure size 800x500 with 1 Axes>"
      ]
     },
     "metadata": {},
     "output_type": "display_data"
    }
   ],
   "source": [
    "one = RFMT[RFMT[\"Clusters\"]==0]\n",
    "two = RFMT[RFMT[\"Clusters\"]==1]\n",
    "three = RFMT[RFMT[\"Clusters\"]==2]\n",
    "four = RFMT[RFMT[\"Clusters\"]==3]\n",
    "\n",
    "plt.figure(figsize=(8,5))\n",
    "ax = plt.axes()\n",
    "ax.set_facecolor(\"#ffffff\")\n",
    "plt.scatter(one[\"Recency\"],one[\"Frequency\"],color='red')\n",
    "plt.scatter(two[\"Recency\"],two[\"Frequency\"],color='black')\n",
    "plt.scatter(three[\"Recency\"],three[\"Frequency\"],color='silver')\n",
    "plt.scatter(four[\"Recency\"],four[\"Frequency\"],color='blue')\n",
    "plt.scatter(kmeans.cluster_centers_[:,0],kmeans.cluster_centers_[:,1],color=\"yellow\",marker=\"^\",label=\"centroid\")\n",
    "plt.legend()\n",
    "plt.show "
   ]
  },
  {
   "cell_type": "code",
   "execution_count": 27,
   "metadata": {},
   "outputs": [
    {
     "name": "stdout",
     "output_type": "stream",
     "text": [
      "Silhouette score : 0.9398352511828644\n"
     ]
    }
   ],
   "source": [
    "from sklearn.metrics import silhouette_score\n",
    "print(\"Silhouette score :\",silhouette_score(RFMT, kmeans.labels_, metric='euclidean'))\n"
   ]
  },
  {
   "cell_type": "markdown",
   "metadata": {},
   "source": [
    "## 6. Customer Insights"
   ]
  },
  {
   "cell_type": "code",
   "execution_count": 28,
   "metadata": {},
   "outputs": [
    {
     "name": "stdout",
     "output_type": "stream",
     "text": [
      "Comparison between Cluster 0 and Cluster 1\n",
      "Recency: 63.970247933884295 vs 7.166666666666667\n",
      "Frequency: 6.203636363636364 vs 89.0\n",
      "Monetary: 1809.195954710744 vs 164839.26833333334\n",
      "Interpurchase Time: 39.768595041322314 vs 5.5\n",
      "\n",
      "\n",
      "Comparison between Cluster 0 and Cluster 2\n",
      "Recency: 63.970247933884295 vs 6.269230769230769\n",
      "Frequency: 6.203636363636364 vs 60.46153846153846\n",
      "Monetary: 1809.195954710744 vs 41188.61423076923\n",
      "Interpurchase Time: 39.768595041322314 vs 8.461538461538462\n",
      "\n",
      "\n",
      "Comparison between Cluster 0 and Cluster 3\n",
      "Recency: 63.970247933884295 vs 162.5\n",
      "Frequency: 6.203636363636364 vs 2.5\n",
      "Monetary: 1809.195954710744 vs -122352.47\n",
      "Interpurchase Time: 39.768595041322314 vs 34.0\n",
      "\n",
      "\n",
      "Comparison between Cluster 1 and Cluster 2\n",
      "Recency: 7.166666666666667 vs 6.269230769230769\n",
      "Frequency: 89.0 vs 60.46153846153846\n",
      "Monetary: 164839.26833333334 vs 41188.61423076923\n",
      "Interpurchase Time: 5.5 vs 8.461538461538462\n",
      "\n",
      "\n",
      "Comparison between Cluster 1 and Cluster 3\n",
      "Recency: 7.166666666666667 vs 162.5\n",
      "Frequency: 89.0 vs 2.5\n",
      "Monetary: 164839.26833333334 vs -122352.47\n",
      "Interpurchase Time: 5.5 vs 34.0\n",
      "\n",
      "\n",
      "Comparison between Cluster 2 and Cluster 3\n",
      "Recency: 6.269230769230769 vs 162.5\n",
      "Frequency: 60.46153846153846 vs 2.5\n",
      "Monetary: 41188.61423076923 vs -122352.47\n",
      "Interpurchase Time: 8.461538461538462 vs 34.0\n",
      "\n",
      "\n",
      "Marketing strategy for Cluster 0: Targeted promotions and discounts to encourage repeat purchases and increase frequency of purchases.\n",
      "Marketing strategy for Cluster 1: Personalized recommendations and upselling to increase the monetary value of purchases.\n",
      "Marketing strategy for Cluster 2: Targeted promotions and discounts to encourage repeat purchases and increase frequency of purchases.\n",
      "Marketing strategy for Cluster 3: Personalized recommendations and upselling to increase the monetary value of purchases.\n"
     ]
    }
   ],
   "source": [
    "cluster_summary = RFMT.groupby('Clusters').agg({'Recency': 'mean', 'Frequency': 'mean', 'Monetary': 'mean', 'Interpurchase_Time': 'mean'})\n",
    "cluster_summary['Count'] = RFMT['Clusters'].value_counts()\n",
    "cluster_summary = cluster_summary.reset_index()\n",
    "\n",
    "for i in range(len(cluster_summary)):\n",
    "    for j in range(i+1, len(cluster_summary)):\n",
    "        print(f\"Comparison between Cluster {cluster_summary['Clusters'][i]} and Cluster {cluster_summary['Clusters'][j]}\")\n",
    "        print(f\"Recency: {cluster_summary['Recency'][i]} vs {cluster_summary['Recency'][j]}\")\n",
    "        print(f\"Frequency: {cluster_summary['Frequency'][i]} vs {cluster_summary['Frequency'][j]}\")\n",
    "        print(f\"Monetary: {cluster_summary['Monetary'][i]} vs {cluster_summary['Monetary'][j]}\")\n",
    "        print(f\"Interpurchase Time: {cluster_summary['Interpurchase_Time'][i]} vs {cluster_summary['Interpurchase_Time'][j]}\")\n",
    "        print(\"\\n\")\n",
    "\n",
    "for i in range(len(cluster_summary)):\n",
    "    if cluster_summary['Clusters'][i] == 0:\n",
    "        print(\"Marketing strategy for Cluster 0: Targeted promotions and discounts to encourage repeat purchases and increase frequency of purchases.\")\n",
    "    elif cluster_summary['Clusters'][i] == 1:\n",
    "        print(\"Marketing strategy for Cluster 1: Personalized recommendations and upselling to increase the monetary value of purchases.\")\n",
    "    elif cluster_summary['Clusters'][i] == 2:\n",
    "        print(\"Marketing strategy for Cluster 2: Targeted promotions and discounts to encourage repeat purchases and increase frequency of purchases.\")\n",
    "    elif cluster_summary['Clusters'][i] == 3:\n",
    "        print(\"Marketing strategy for Cluster 3: Personalized recommendations and upselling to increase the monetary value of purchases.\")\n"
   ]
  },
  {
   "cell_type": "markdown",
   "metadata": {},
   "source": [
    "## 7. Customer Engagement Recommendations"
   ]
  },
  {
   "cell_type": "code",
   "execution_count": 29,
   "metadata": {},
   "outputs": [
    {
     "name": "stdout",
     "output_type": "stream",
     "text": [
      "Marketing strategy for Cluster 0: Targeted promotions and discounts to encourage repeat purchases and increase frequency of purchases.\n",
      "Marketing strategy for Cluster 1: Personalized recommendations and upselling to increase the monetary value of purchases.\n",
      "Marketing strategy for Cluster 2: Targeted promotions and discounts to encourage repeat purchases and increase frequency of purchases.\n",
      "Marketing strategy for Cluster 3: Personalized recommendations and upselling to increase the monetary value of purchases.\n"
     ]
    }
   ],
   "source": [
    "cluster_summary = RFMT.groupby('Clusters').agg({'Recency': 'mean', 'Frequency': 'mean', 'Monetary': 'mean', 'Interpurchase_Time': 'mean'})\n",
    "cluster_summary['Count'] = RFMT['Clusters'].value_counts()\n",
    "cluster_summary = cluster_summary.reset_index()\n",
    "\n",
    "for i in range(len(cluster_summary)):\n",
    "    if cluster_summary['Clusters'][i] == 0:\n",
    "        print(\"Marketing strategy for Cluster 0: Targeted promotions and discounts to encourage repeat purchases and increase frequency of purchases.\")\n",
    "    elif cluster_summary['Clusters'][i] == 1:\n",
    "        print(\"Marketing strategy for Cluster 1: Personalized recommendations and upselling to increase the monetary value of purchases.\")\n",
    "    elif cluster_summary['Clusters'][i] == 2:\n",
    "        print(\"Marketing strategy for Cluster 2: Targeted promotions and discounts to encourage repeat purchases and increase frequency of purchases.\")\n",
    "    elif cluster_summary['Clusters'][i] == 3:\n",
    "        print(\"Marketing strategy for Cluster 3: Personalized recommendations and upselling to increase the monetary value of purchases.\")\n"
   ]
  },
  {
   "cell_type": "code",
   "execution_count": null,
   "metadata": {},
   "outputs": [],
   "source": []
  }
 ],
 "metadata": {
  "kernelspec": {
   "display_name": "Python 3 (ipykernel)",
   "language": "python",
   "name": "python3"
  },
  "language_info": {
   "codemirror_mode": {
    "name": "ipython",
    "version": 3
   },
   "file_extension": ".py",
   "mimetype": "text/x-python",
   "name": "python",
   "nbconvert_exporter": "python",
   "pygments_lexer": "ipython3",
   "version": "3.11.1"
  }
 },
 "nbformat": 4,
 "nbformat_minor": 4
}
